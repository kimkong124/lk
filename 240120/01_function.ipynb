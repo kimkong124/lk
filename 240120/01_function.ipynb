{
 "cells": [
  {
   "cell_type": "code",
   "execution_count": 173,
   "metadata": {},
   "outputs": [
    {
     "name": "stdout",
     "output_type": "stream",
     "text": [
      "HELLO WORLD\n",
      "hello world\n",
      "hELLO WORLD\n",
      "Hello World\n"
     ]
    }
   ],
   "source": [
    "# 문자열을 대, 소문자 변경\n",
    "\n",
    "a_text = \"Hello world\"\n",
    "\n",
    "# upper() : 모든 문자열을 대문자로 변경\n",
    "print(a_text.upper())\n",
    "\n",
    "# lower() : 모든 문자열을 소문자로 변경\n",
    "print(a_text.lower())\n",
    "\n",
    "# swapcase() : 대문자를 소문자로 소문자를 대문자로 변경\n",
    "print(a_text.swapcase())\n",
    "\n",
    "# title() : 단어의 첫글자를 대문자로 변경\n",
    "print(a_text.title())"
   ]
  },
  {
   "cell_type": "code",
   "execution_count": 174,
   "metadata": {},
   "outputs": [
    {
     "name": "stdout",
     "output_type": "stream",
     "text": [
      "  Hello world  \n"
     ]
    }
   ],
   "source": [
    "# 공백을 제거하는 함수\n",
    "# strip() : 문자열의 좌우의 공백을 제거\n",
    "# lstrip() : 문자열 좌측의 공백을 제거\n",
    "# rstrip() : 문자열 우측의 공백을 제거\n",
    "\n",
    "b_text = \"  Hello world  \"\n",
    "print(b_text)"
   ]
  },
  {
   "cell_type": "code",
   "execution_count": 175,
   "metadata": {},
   "outputs": [
    {
     "data": {
      "text/plain": [
       "'  Hello world  '"
      ]
     },
     "execution_count": 175,
     "metadata": {},
     "output_type": "execute_result"
    }
   ],
   "source": [
    "b_text"
   ]
  },
  {
   "cell_type": "code",
   "execution_count": 176,
   "metadata": {},
   "outputs": [
    {
     "data": {
      "text/plain": [
       "'Hello world'"
      ]
     },
     "execution_count": 176,
     "metadata": {},
     "output_type": "execute_result"
    }
   ],
   "source": [
    "# 좌우의 공백을 제거\n",
    "b_text.strip()"
   ]
  },
  {
   "cell_type": "code",
   "execution_count": 177,
   "metadata": {},
   "outputs": [
    {
     "data": {
      "text/plain": [
       "'  Hello world'"
      ]
     },
     "execution_count": 177,
     "metadata": {},
     "output_type": "execute_result"
    }
   ],
   "source": [
    "b_text.lstrip()\n",
    "# 우측의 공백을 제거\n",
    "b_text.rstrip()"
   ]
  },
  {
   "cell_type": "code",
   "execution_count": 178,
   "metadata": {},
   "outputs": [
    {
     "name": "stdout",
     "output_type": "stream",
     "text": [
      "$$Hello%%\n"
     ]
    }
   ],
   "source": [
    "c_text = \"$$Hello%%\"\n",
    "print(c_text)"
   ]
  },
  {
   "cell_type": "code",
   "execution_count": 179,
   "metadata": {},
   "outputs": [
    {
     "data": {
      "text/plain": [
       "'Hello%%'"
      ]
     },
     "execution_count": 179,
     "metadata": {},
     "output_type": "execute_result"
    }
   ],
   "source": [
    "# 좌측의 $를 제거\n",
    "c_text.lstrip('$')"
   ]
  },
  {
   "cell_type": "code",
   "execution_count": 180,
   "metadata": {},
   "outputs": [
    {
     "data": {
      "text/plain": [
       "'$$Hello'"
      ]
     },
     "execution_count": 180,
     "metadata": {},
     "output_type": "execute_result"
    }
   ],
   "source": [
    "# 우측의 %를 제거\n",
    "c_text.rstrip('%')"
   ]
  },
  {
   "cell_type": "code",
   "execution_count": 181,
   "metadata": {},
   "outputs": [
    {
     "data": {
      "text/plain": [
       "'Hi World'"
      ]
     },
     "execution_count": 181,
     "metadata": {},
     "output_type": "execute_result"
    }
   ],
   "source": [
    "# replace({치환을 할 문자열, {치환이 될 문자열})\n",
    "c_text = 'Hello World'\n",
    "c_text.replace('Hello', 'Hi')"
   ]
  },
  {
   "cell_type": "code",
   "execution_count": 182,
   "metadata": {},
   "outputs": [
    {
     "data": {
      "text/plain": [
       "'  Hello  world  '"
      ]
     },
     "execution_count": 182,
     "metadata": {},
     "output_type": "execute_result"
    }
   ],
   "source": [
    "# replace()함수를 이용하여 문자의 공백을 제거\n",
    "d_text = \"  Hello  world  \"\n",
    "d_text"
   ]
  },
  {
   "cell_type": "code",
   "execution_count": 183,
   "metadata": {},
   "outputs": [
    {
     "data": {
      "text/plain": [
       "'Helloworld'"
      ]
     },
     "execution_count": 183,
     "metadata": {},
     "output_type": "execute_result"
    }
   ],
   "source": [
    "d_text.replace(\" \", \"\")"
   ]
  },
  {
   "cell_type": "code",
   "execution_count": 184,
   "metadata": {},
   "outputs": [
    {
     "data": {
      "text/plain": [
       "['a', 'b', 'c', 'd']"
      ]
     },
     "execution_count": 184,
     "metadata": {},
     "output_type": "execute_result"
    }
   ],
   "source": [
    "# split() : 특정한 문자열을 이용하여 문자열을 나눠주는 함수\n",
    "e_text = \"a,b,c,d\"\n",
    "e_text.split(',')"
   ]
  },
  {
   "cell_type": "code",
   "execution_count": 185,
   "metadata": {},
   "outputs": [
    {
     "data": {
      "text/plain": [
       "['a', 'b', 'c', 'd']"
      ]
     },
     "execution_count": 185,
     "metadata": {},
     "output_type": "execute_result"
    }
   ],
   "source": [
    "f_text = 'a/b/c/d'\n",
    "f_text.split('/')"
   ]
  },
  {
   "cell_type": "code",
   "execution_count": 186,
   "metadata": {},
   "outputs": [
    {
     "data": {
      "text/plain": [
       "-1"
      ]
     },
     "execution_count": 186,
     "metadata": {},
     "output_type": "execute_result"
    }
   ],
   "source": [
    "a = 'hello'\n",
    "a.find('b')"
   ]
  },
  {
   "cell_type": "markdown",
   "metadata": {},
   "source": [
    "### 함수\n",
    " 어떠한 입력값을 가지고 작업을 실행하고 결과물을 출력한다."
   ]
  },
  {
   "cell_type": "code",
   "execution_count": 187,
   "metadata": {},
   "outputs": [],
   "source": [
    "# 매개변수가 존재하지 않는 함수를 생성\n",
    "# 매개변수가 존재하지 않으면 함수를 동일한 행동을 반복\n",
    "def func_1():\n",
    "    result = 'hello'\n",
    "    return result"
   ]
  },
  {
   "cell_type": "code",
   "execution_count": 188,
   "metadata": {},
   "outputs": [
    {
     "name": "stdout",
     "output_type": "stream",
     "text": [
      "hello\n",
      "hello\n",
      "hello\n"
     ]
    }
   ],
   "source": [
    "print(func_1())\n",
    "print(func_1())\n",
    "print(func_1())"
   ]
  },
  {
   "cell_type": "code",
   "execution_count": 189,
   "metadata": {},
   "outputs": [],
   "source": [
    "# 매개변수가 존재하는 함수를 생성\n",
    "def func_2(a,b):\n",
    "    result = a + b\n",
    "    return result"
   ]
  },
  {
   "cell_type": "code",
   "execution_count": 190,
   "metadata": {},
   "outputs": [
    {
     "name": "stdout",
     "output_type": "stream",
     "text": [
      "9\n",
      "3\n"
     ]
    }
   ],
   "source": [
    "# 매개변수가 2개인 함수를 호출 -> 해당하는 함수를 호출을 할때는 인자의 개수가 2개\n",
    "print(func_2(4,5)) # 9 \n",
    "print(func_2(1,2)) # 3"
   ]
  },
  {
   "cell_type": "code",
   "execution_count": 191,
   "metadata": {},
   "outputs": [
    {
     "ename": "TypeError",
     "evalue": "func_2() missing 1 required positional argument: 'b'",
     "output_type": "error",
     "traceback": [
      "\u001b[1;31m---------------------------------------------------------------------------\u001b[0m",
      "\u001b[1;31mTypeError\u001b[0m                                 Traceback (most recent call last)",
      "Cell \u001b[1;32mIn[191], line 3\u001b[0m\n\u001b[0;32m      1\u001b[0m \u001b[38;5;66;03m# error code\u001b[39;00m\n\u001b[0;32m      2\u001b[0m \u001b[38;5;66;03m# 매개변수의 개수와 인자의 개수가 다르게 호출하는 경우\u001b[39;00m\n\u001b[1;32m----> 3\u001b[0m \u001b[38;5;28mprint\u001b[39m(\u001b[43mfunc_2\u001b[49m\u001b[43m(\u001b[49m\u001b[38;5;241;43m5\u001b[39;49m\u001b[43m)\u001b[49m)\n",
      "\u001b[1;31mTypeError\u001b[0m: func_2() missing 1 required positional argument: 'b'"
     ]
    }
   ],
   "source": [
    "# error code\n",
    "# 매개변수의 개수와 인자의 개수가 다르게 호출하는 경우\n",
    "print(func_2(5))"
   ]
  },
  {
   "cell_type": "code",
   "execution_count": null,
   "metadata": {},
   "outputs": [],
   "source": [
    "# 함수를 생성할때 매개변수에 기본값을 지정\n",
    "def func_3(a, b =2): \n",
    "    result = a ** b\n",
    "    return result"
   ]
  },
  {
   "cell_type": "code",
   "execution_count": null,
   "metadata": {},
   "outputs": [
    {
     "name": "stdout",
     "output_type": "stream",
     "text": [
      "125\n",
      "64\n"
     ]
    }
   ],
   "source": [
    "print(func_3(5,3)) #125\n",
    "print(func_3(8)) # 64"
   ]
  },
  {
   "cell_type": "code",
   "execution_count": null,
   "metadata": {},
   "outputs": [],
   "source": [
    "def func_4(input_x, input_y): \n",
    "    result = input_x - input_y\n",
    "    return result"
   ]
  },
  {
   "cell_type": "code",
   "execution_count": null,
   "metadata": {},
   "outputs": [
    {
     "name": "stdout",
     "output_type": "stream",
     "text": [
      "7\n",
      "-7\n"
     ]
    }
   ],
   "source": [
    "print(func_4(10,3)) #7\n",
    "print(func_4(input_y = 10, input_x =3)) #-7"
   ]
  },
  {
   "cell_type": "code",
   "execution_count": null,
   "metadata": {},
   "outputs": [],
   "source": [
    "# 함수 생성\n",
    "# 매개변수는 2개 -> start, end\n",
    "# start부터 시작해서 end까지의 누적합을 출력\n",
    "# start의 기본값은 1, end의 기본값은 10\n",
    "def func_5(start = 1, end = 10):\n",
    "    # 합계라는 초기 값은 0으로 지정 \n",
    "    result = 0\n",
    "    \n",
    "    # start부터 end까지 반복을 하는 반복문을 생성\n",
    "    for i in range(start, end+1, 1): \n",
    "        # result = result + i\n",
    "        result += i\n",
    "    # for문 종료 후\n",
    "    return result"
   ]
  },
  {
   "cell_type": "code",
   "execution_count": null,
   "metadata": {},
   "outputs": [],
   "source": [
    "# 함수 생성\n",
    "# 매개변수는 2개 -> start, end\n",
    "# start부터 시작해서 end까지의 누적합을 출력\n",
    "# start의 기본값은 1, end의 기본값은 10\n",
    "def func_5(start = 1, end = 10):\n",
    "    # 합계라는 초기 값은 0으로 지정 \n",
    "    result = 0\n",
    "    \n",
    "    # start부터 end까지 반복을 하는 반복문을 생성\n",
    "    for i in range(start, end+1, 1): \n",
    "        # result = result + i\n",
    "        result += i\n",
    "    # for문 종료 후\n",
    "    return result"
   ]
  },
  {
   "cell_type": "code",
   "execution_count": null,
   "metadata": {},
   "outputs": [
    {
     "name": "stdout",
     "output_type": "stream",
     "text": [
      "55\n"
     ]
    }
   ],
   "source": [
    "print(func_5())\n",
    "# start = 1, end = 10, result = 0\n",
    "# for i in range(1, 11, 1): \n",
    "# result = result + i--> result = 0+1\n",
    "# return result --> result를 되돌려주고 함수를 종료"
   ]
  },
  {
   "cell_type": "code",
   "execution_count": null,
   "metadata": {},
   "outputs": [],
   "source": [
    "def func_6(start = 1, end = 10):\n",
    "    # 합계라는 초기 값은 0으로 지정\n",
    "    result = 0\n",
    "\n",
    "    # start부터 end까지 반복을 하는 반복문을 생성\n",
    "    for i in range (start, end+1, 1):\n",
    "        # rsult = result + i\n",
    "        result += i\n",
    "    # for문 종료후\n",
    "    return result\n"
   ]
  },
  {
   "cell_type": "code",
   "execution_count": null,
   "metadata": {},
   "outputs": [
    {
     "name": "stdout",
     "output_type": "stream",
     "text": [
      "55\n"
     ]
    }
   ],
   "source": [
    "print(func_6())\n",
    "# start = 1, end = 10, result = 0\n",
    "# for i in range(1, 11, 1):\n",
    "#  result = result + i --> result = 0+1\n",
    "#  result = result + i --> result = 1+2\n",
    "# ...\n",
    "#  result = result + i --> result = 36+9\n",
    "#  result = result + i --> result = 45+10\n",
    "# return result"
   ]
  },
  {
   "cell_type": "code",
   "execution_count": null,
   "metadata": {},
   "outputs": [
    {
     "name": "stdout",
     "output_type": "stream",
     "text": [
      "5050\n"
     ]
    }
   ],
   "source": [
    "print(func_6(end=100))"
   ]
  },
  {
   "cell_type": "code",
   "execution_count": null,
   "metadata": {},
   "outputs": [
    {
     "name": "stdout",
     "output_type": "stream",
     "text": [
      "77\n",
      "3003\n"
     ]
    }
   ],
   "source": [
    "# 1부터 100까지의 누적합 도중 합계가 3000이 넘어가는 최초의 숫자는 몇일까?\n",
    "\n",
    "# 합계 초기값을 지정 0\n",
    "sum_result = 0 \n",
    "\n",
    "for i in range(1, 101, 1): \n",
    "    sum_result += i\n",
    "    # 합계가 3000보다 큰 경우\n",
    "    if sum_result > 3000:\n",
    "        break\n",
    "print(i)\n",
    "print(sum_result)"
   ]
  },
  {
   "cell_type": "code",
   "execution_count": null,
   "metadata": {},
   "outputs": [
    {
     "name": "stdout",
     "output_type": "stream",
     "text": [
      "173\n",
      "15051\n"
     ]
    }
   ],
   "source": [
    "# 1부터 1씩 증가시켜서 누적합이 15000이 되는 순간의 숫자가 몇인가?\n",
    "\n",
    "sum_result = 0\n",
    "\n",
    "for i in range (1, 500, 1): \n",
    "    sum_result += i\n",
    "    if sum_result > 15000 : \n",
    "        break\n",
    "\n",
    "print(i)\n",
    "print(sum_result)"
   ]
  },
  {
   "cell_type": "code",
   "execution_count": null,
   "metadata": {},
   "outputs": [
    {
     "name": "stdout",
     "output_type": "stream",
     "text": [
      "548\n",
      "150426\n"
     ]
    }
   ],
   "source": [
    "i = 1 \n",
    "sum_result = 0\n",
    "\n",
    "while True:\n",
    "    sum_result += i\n",
    "    if sum_result > 150000: \n",
    "        break\n",
    "    i += 1\n",
    "\n",
    "print(i)\n",
    "print(sum_result)"
   ]
  },
  {
   "cell_type": "code",
   "execution_count": 194,
   "metadata": {},
   "outputs": [],
   "source": [
    "# 함수 생성\n",
    "# 매개변수 2개 생성 \n",
    "# 매개변수 사이의 값들의 누적합을 출력하는 함수\n",
    "def func_7(x, y): \n",
    "    # 합계 초기값은 0으로 지정\n",
    "    result = 0\n",
    "    # x보다 y가 큰 경우 (ex. x가 1이고 y가 10 -> 1부터 10가지의 누적합)\n",
    "    if x < y: \n",
    "        for i in range(x, y+1, 1): \n",
    "            result +=i\n",
    "    # x보다 y가 작거나 같은 경우\n",
    "    else:\n",
    "        for i in range(y, x+1, 1):\n",
    "            result +=i\n",
    "    return result\n"
   ]
  },
  {
   "cell_type": "code",
   "execution_count": 195,
   "metadata": {},
   "outputs": [
    {
     "name": "stdout",
     "output_type": "stream",
     "text": [
      "55\n"
     ]
    }
   ],
   "source": [
    "print(func_7(1,10))"
   ]
  },
  {
   "cell_type": "code",
   "execution_count": 198,
   "metadata": {},
   "outputs": [
    {
     "name": "stdout",
     "output_type": "stream",
     "text": [
      "5\n"
     ]
    }
   ],
   "source": [
    "print(func_7(5,5))"
   ]
  },
  {
   "cell_type": "code",
   "execution_count": 207,
   "metadata": {},
   "outputs": [],
   "source": [
    "def func_8(x, y): \n",
    "    reuslt= 0\n",
    "\n",
    "    # 시작값이 x와 y중 작은 값\n",
    "    # 종료값은 x와 y중 큰 값에 +1\n",
    "    # 숫자 데이터들 중 가장 작은 데이터를 출력하는 함수 : min()\n",
    "    # 숫자 데이터들 중 가장 큰 데이터를 출력하는 함수 : max()\n",
    "    for i in range(min(x,y), max(x,y)+1, 1): \n",
    "        result += i\n",
    "    return result"
   ]
  },
  {
   "cell_type": "code",
   "execution_count": 206,
   "metadata": {},
   "outputs": [
    {
     "ename": "UnboundLocalError",
     "evalue": "cannot access local variable 'result' where it is not associated with a value",
     "output_type": "error",
     "traceback": [
      "\u001b[1;31m---------------------------------------------------------------------------\u001b[0m",
      "\u001b[1;31mUnboundLocalError\u001b[0m                         Traceback (most recent call last)",
      "Cell \u001b[1;32mIn[206], line 1\u001b[0m\n\u001b[1;32m----> 1\u001b[0m \u001b[38;5;28mprint\u001b[39m(\u001b[43mfunc_8\u001b[49m\u001b[43m(\u001b[49m\u001b[38;5;241;43m1\u001b[39;49m\u001b[43m,\u001b[49m\u001b[43m \u001b[49m\u001b[38;5;241;43m10\u001b[39;49m\u001b[43m)\u001b[49m)\n\u001b[0;32m      2\u001b[0m \u001b[38;5;28mprint\u001b[39m(func_8(\u001b[38;5;241m10\u001b[39m, \u001b[38;5;241m1\u001b[39m))\n\u001b[0;32m      3\u001b[0m \u001b[38;5;28mprint\u001b[39m(func_8(\u001b[38;5;241m5\u001b[39m, \u001b[38;5;241m5\u001b[39m))\n",
      "Cell \u001b[1;32mIn[205], line 9\u001b[0m, in \u001b[0;36mfunc_8\u001b[1;34m(x, y)\u001b[0m\n\u001b[0;32m      4\u001b[0m \u001b[38;5;66;03m# 시작값이 x와 y중 작은 값\u001b[39;00m\n\u001b[0;32m      5\u001b[0m \u001b[38;5;66;03m# 종료값은 x와 y중 큰 값에 +1\u001b[39;00m\n\u001b[0;32m      6\u001b[0m \u001b[38;5;66;03m# 숫자 데이터들 중 가장 작은 데이터를 출력하는 함수 : min()\u001b[39;00m\n\u001b[0;32m      7\u001b[0m \u001b[38;5;66;03m# 숫자 데이터들 중 가장 큰 데이터를 출력하는 함수 : max()\u001b[39;00m\n\u001b[0;32m      8\u001b[0m \u001b[38;5;28;01mfor\u001b[39;00m i \u001b[38;5;129;01min\u001b[39;00m \u001b[38;5;28mrange\u001b[39m(\u001b[38;5;28mmin\u001b[39m(x,y), \u001b[38;5;28mmax\u001b[39m(x,y)\u001b[38;5;241m+\u001b[39m\u001b[38;5;241m1\u001b[39m, \u001b[38;5;241m1\u001b[39m): \n\u001b[1;32m----> 9\u001b[0m     \u001b[43mresult\u001b[49m \u001b[38;5;241m+\u001b[39m\u001b[38;5;241m=\u001b[39m i\n\u001b[0;32m     10\u001b[0m \u001b[38;5;28;01mreturn\u001b[39;00m result\n",
      "\u001b[1;31mUnboundLocalError\u001b[0m: cannot access local variable 'result' where it is not associated with a value"
     ]
    }
   ],
   "source": [
    "print(func_8(1, 10))\n",
    "print(func_8(10, 1))\n",
    "print(func_8(5, 5))"
   ]
  },
  {
   "cell_type": "code",
   "execution_count": 209,
   "metadata": {},
   "outputs": [
    {
     "data": {
      "text/plain": [
       "1"
      ]
     },
     "execution_count": 209,
     "metadata": {},
     "output_type": "execute_result"
    }
   ],
   "source": [
    "min(3, 10, 1)"
   ]
  },
  {
   "cell_type": "code",
   "execution_count": 225,
   "metadata": {},
   "outputs": [],
   "source": [
    "# 인자의 개수가 가변인 경우의 함수를 생성\n",
    "def func_9(*args):\n",
    "    # print(type(args))\n",
    "    # print(args)\n",
    "    # print(len(args))\n",
    "    # 인자값들 중 첫번째 데이터를 변수에 대입\n",
    "    result = args[0]\n",
    "    # 인자 값들 중 두번째 데이터부터 반복하는 반복문 생성\n",
    "    for i in range(1, len(args), 1):\n",
    "        # result와 args[i]항목을 비교\n",
    "        if result > args[i]:\n",
    "            result = args[i]\n",
    "    return result\n",
    "\n",
    "# args = (50, 49, 55, 42)\n",
    "# result = 50\n",
    "# for문에서 3번 반복 (시작값 1, 종료값 4, 증가값 1)\n",
    "# result > args[1] (50 > 49) --> True\n",
    "#   result = args[1] (result = 49)\n",
    "# result > args[2] (49 > 55) --> False\n",
    "# 아무 행동도 하지 않는다. (result = 49 )\n",
    "# result > args[3] (49 > 42) --> True\n",
    "# result = args[3] (result = 42)\n",
    "# for문이 종료\n",
    "# return result (return 42)"
   ]
  },
  {
   "cell_type": "code",
   "execution_count": 222,
   "metadata": {},
   "outputs": [
    {
     "data": {
      "text/plain": [
       "1"
      ]
     },
     "execution_count": 222,
     "metadata": {},
     "output_type": "execute_result"
    }
   ],
   "source": [
    "func_9(1,2,3,4,5)\n",
    "func_9(2,4,6,8)\n",
    "func_9(1,2,3,4,5,6,7,8,9,10)"
   ]
  },
  {
   "cell_type": "markdown",
   "metadata": {},
   "source": []
  },
  {
   "cell_type": "code",
   "execution_count": 226,
   "metadata": {},
   "outputs": [
    {
     "name": "stdout",
     "output_type": "stream",
     "text": [
      "42\n"
     ]
    }
   ],
   "source": [
    "print(func_9(50, 49, 55, 42))\n"
   ]
  },
  {
   "cell_type": "code",
   "execution_count": null,
   "metadata": {},
   "outputs": [],
   "source": [
    "### 예제 문제\n",
    "1. 함수를 생성 -> 인자의 개수를 가변\n",
    "2. 인자값의 평균 값을 출력을 하는 함수\n",
    "    1. 모든 인자값들을 더한다.\n",
    "    2. 더한 데이터를 인자의 개수로 나눠준다.\n",
    "    3. 나온 결과값을 되돌려준다."
   ]
  }
 ],
 "metadata": {
  "kernelspec": {
   "display_name": "Python 3",
   "language": "python",
   "name": "python3"
  },
  "language_info": {
   "codemirror_mode": {
    "name": "ipython",
    "version": 3
   },
   "file_extension": ".py",
   "mimetype": "text/x-python",
   "name": "python",
   "nbconvert_exporter": "python",
   "pygments_lexer": "ipython3",
   "version": "3.12.0"
  }
 },
 "nbformat": 4,
 "nbformat_minor": 2
}
